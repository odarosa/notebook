{
  "nbformat": 4,
  "nbformat_minor": 0,
  "metadata": {
    "colab": {
      "name": "calculadora.ipynb",
      "provenance": [],
      "collapsed_sections": [],
      "authorship_tag": "ABX9TyOSbfn3rFagS6TkhpBhISs/",
      "include_colab_link": true
    },
    "kernelspec": {
      "name": "python3",
      "display_name": "Python 3"
    }
  },
  "cells": [
    {
      "cell_type": "markdown",
      "metadata": {
        "id": "view-in-github",
        "colab_type": "text"
      },
      "source": [
        "<a href=\"https://colab.research.google.com/github/odarosa/notebook/blob/master/calculadora.ipynb\" target=\"_parent\"><img src=\"https://colab.research.google.com/assets/colab-badge.svg\" alt=\"Open In Colab\"/></a>"
      ]
    },
    {
      "cell_type": "code",
      "metadata": {
        "id": "ioJNlnO9_T-o",
        "colab_type": "code",
        "outputId": "bf75298c-e43b-4e60-9358-58ef0567c6bc",
        "colab": {
          "base_uri": "https://localhost:8080/",
          "height": 145
        }
      },
      "source": [
        "print('************* Calculadora python *************')\n",
        "opcao = int()\n",
        "a = int()\n",
        "b = int()\n",
        "\n",
        "print('Selecione o número da opção desejada: ')\n",
        "print('1 - Soma')\n",
        "print('2 - Subtração')\n",
        "print('3 - Multiplicação')\n",
        "print('4 - Divisão')\n",
        "\n",
        "Opcao = input('Digite sua opção aqui: ')\n",
        "if opcao == 1:\n",
        "  print('Você selecionou Soma: ')\n",
        "\n",
        "  print('Digite o primeiro número: ')\n",
        "  print ('Digite o segundo número: ')\n",
        "  print(a + b)\n",
        "\n"
      ],
      "execution_count": 0,
      "outputs": [
        {
          "output_type": "stream",
          "text": [
            "************* Calculadora python *************\n",
            "Selecione o número da opção desejada: \n",
            "1 - Soma\n",
            "2 - Subtração\n",
            "3 - Multiplicação\n",
            "4 - Divisão\n",
            "Digite sua opção aqui: 1\n"
          ],
          "name": "stdout"
        }
      ]
    }
  ]
}